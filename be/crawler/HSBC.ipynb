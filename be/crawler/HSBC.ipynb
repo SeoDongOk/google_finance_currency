{
 "cells": [
  {
   "cell_type": "code",
   "execution_count": 5,
   "metadata": {},
   "outputs": [],
   "source": [
    "import requests\n",
    "import json"
   ]
  },
  {
   "cell_type": "code",
   "execution_count": 17,
   "metadata": {},
   "outputs": [
    {
     "data": {
      "text/plain": [
       "{'lastUpdateTime': '2024-11-30T23:56:00+08:00',\n",
       " 'fxnoteExchangeRates': [{'ccyCode': 'USS',\n",
       "   'ccyDisplayCode': 'USD',\n",
       "   'ccyDisplayName': 'US Dollar',\n",
       "   'ccyBaseRemark': '',\n",
       "   'noteBuyRate': '7.7020',\n",
       "   'noteSellRate': '7.8350'},\n",
       "  {'ccyCode': 'CNY',\n",
       "   'ccyDisplayCode': 'CNY',\n",
       "   'ccyDisplayName': 'Renminbi',\n",
       "   'ccyBaseRemark': '',\n",
       "   'noteBuyRate': '1.0541',\n",
       "   'noteSellRate': '1.0876'},\n",
       "  {'ccyCode': 'AUD',\n",
       "   'ccyDisplayCode': 'AUD',\n",
       "   'ccyDisplayName': 'Australian Dollar',\n",
       "   'ccyBaseRemark': '',\n",
       "   'noteBuyRate': '4.9490',\n",
       "   'noteSellRate': '5.1490'},\n",
       "  {'ccyCode': 'CAD',\n",
       "   'ccyDisplayCode': 'CAD',\n",
       "   'ccyDisplayName': 'Canadian Dollar',\n",
       "   'ccyBaseRemark': '',\n",
       "   'noteBuyRate': '5.4820',\n",
       "   'noteSellRate': '5.6680'},\n",
       "  {'ccyCode': 'CHF',\n",
       "   'ccyDisplayCode': 'CHF',\n",
       "   'ccyDisplayName': 'Swiss Franc',\n",
       "   'ccyBaseRemark': '',\n",
       "   'noteBuyRate': '8.6830',\n",
       "   'noteSellRate': '8.9760'},\n",
       "  {'ccyCode': 'EUR',\n",
       "   'ccyDisplayCode': 'EUR',\n",
       "   'ccyDisplayName': 'Euro',\n",
       "   'ccyBaseRemark': '',\n",
       "   'noteBuyRate': '8.0810',\n",
       "   'noteSellRate': '8.3580'},\n",
       "  {'ccyCode': 'GBP',\n",
       "   'ccyDisplayCode': 'GBP',\n",
       "   'ccyDisplayName': 'Pound Sterling',\n",
       "   'ccyBaseRemark': '',\n",
       "   'noteBuyRate': '9.6890',\n",
       "   'noteSellRate': '10.1350'},\n",
       "  {'ccyCode': 'JPY',\n",
       "   'ccyDisplayCode': 'JPY',\n",
       "   'ccyDisplayName': 'Japanese Yen',\n",
       "   'ccyBaseRemark': '(per 1,000)',\n",
       "   'noteBuyRate': '51.0200',\n",
       "   'noteSellRate': '52.8300'},\n",
       "  {'ccyCode': 'NZD',\n",
       "   'ccyDisplayCode': 'NZD',\n",
       "   'ccyDisplayName': 'New Zealand Dollar',\n",
       "   'ccyBaseRemark': '',\n",
       "   'noteBuyRate': '4.5250',\n",
       "   'noteSellRate': '4.7140'},\n",
       "  {'ccyCode': 'SGD',\n",
       "   'ccyDisplayCode': 'SGD',\n",
       "   'ccyDisplayName': 'Singapore Dollar',\n",
       "   'ccyBaseRemark': '',\n",
       "   'noteBuyRate': '5.7390',\n",
       "   'noteSellRate': '5.8590'},\n",
       "  {'ccyCode': 'THB',\n",
       "   'ccyDisplayCode': 'THB',\n",
       "   'ccyDisplayName': 'Thai Baht',\n",
       "   'ccyBaseRemark': '',\n",
       "   'noteBuyRate': '0.2220',\n",
       "   'noteSellRate': '0.2420'},\n",
       "  {'ccyCode': 'TWD',\n",
       "   'ccyDisplayCode': 'TWD',\n",
       "   'ccyDisplayName': 'New Taiwan Dollar',\n",
       "   'ccyBaseRemark': '',\n",
       "   'noteBuyRate': '0.2380',\n",
       "   'noteSellRate': '0.2605'},\n",
       "  {'ccyCode': 'ZAR',\n",
       "   'ccyDisplayCode': 'ZAR',\n",
       "   'ccyDisplayName': 'South African Rand',\n",
       "   'ccyBaseRemark': '',\n",
       "   'noteBuyRate': '0.3570',\n",
       "   'noteSellRate': '0.4560'}]}"
      ]
     },
     "execution_count": 17,
     "metadata": {},
     "output_type": "execute_result"
    }
   ],
   "source": [
    "url = \"https://rbwm-api.hsbc.com.hk/pws-hk-hase-rates-papi-prod-proxy/v1/fxnotes-exchange-rates\"\n",
    "response=requests.get(url)\n",
    "test=json.loads(response.text)\n",
    "test"
   ]
  },
  {
   "cell_type": "code",
   "execution_count": null,
   "metadata": {},
   "outputs": [],
   "source": []
  }
 ],
 "metadata": {
  "kernelspec": {
   "display_name": "p2p-env",
   "language": "python",
   "name": "python3"
  },
  "language_info": {
   "codemirror_mode": {
    "name": "ipython",
    "version": 3
   },
   "file_extension": ".py",
   "mimetype": "text/x-python",
   "name": "python",
   "nbconvert_exporter": "python",
   "pygments_lexer": "ipython3",
   "version": "3.11.9"
  }
 },
 "nbformat": 4,
 "nbformat_minor": 2
}
