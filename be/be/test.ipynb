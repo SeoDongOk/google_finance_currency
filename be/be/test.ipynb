{
 "cells": [
  {
   "cell_type": "code",
   "execution_count": 42,
   "metadata": {},
   "outputs": [],
   "source": [
    "import requests\n",
    "from bs4 import BeautifulSoup"
   ]
  },
  {
   "cell_type": "code",
   "execution_count": 49,
   "metadata": {},
   "outputs": [
    {
     "name": "stdout",
     "output_type": "stream",
     "text": [
      "1732763251.5867362\n"
     ]
    }
   ],
   "source": [
    "import json\n",
    "import time\n",
    "print(time.time())\n",
    "input_currency = \"USD\"\n",
    "output_currency = \"KRW\"\n",
    "url = f\"https://query2.finance.yahoo.com/v8/finance/chart/{input_currency}{output_currency}=X?period1=1732590000&period2=1732762800&interval=5m&includePrePost=true&events=div%7Csplit%7Cearn&&lang=en-US&region=US\"\n",
    "headers = {\n",
    "    \"Content-Type\": \"application/json\",           # 요청 데이터 형식\n",
    "    \"Accept\": \"application/json\",                 # 응답 데이터 형식\n",
    "    \"User-Agent\": \"MyApp/1.0 (Windows NT 10.0; Win64; x64) Python/3.9\"  # 사용자 에이전트\n",
    "}\n",
    "\n",
    "\n",
    "response=requests.get(url, headers=headers)\n",
    "data=json.loads(response.text)\n"
   ]
  },
  {
   "cell_type": "code",
   "execution_count": null,
   "metadata": {},
   "outputs": [],
   "source": [
    "import requests\n",
    "\n",
    "# Firebase Realtime Database URL 및 인증 키\n",
    "\n",
    "# 데이터 요청\n",
    "url = f\"{firebase_url}{path}.json?auth={auth_key}\"\n",
    "response = requests.get(url)\n",
    "\n",
    "if response.status_code == 200:\n",
    "    data = response.json()\n",
    "else:\n",
    "    print(\"오류 발생:\", response.status_code, response.text)\n"
   ]
  },
  {
   "cell_type": "code",
   "execution_count": null,
   "metadata": {},
   "outputs": [],
   "source": []
  },
  {
   "cell_type": "code",
   "execution_count": null,
   "metadata": {},
   "outputs": [],
   "source": [
    "import pandas as pd\n",
    "target_key=data.keys()\n",
    "df=pd.DataFrame()\n",
    "\n",
    "for i in target_key:\n",
    "    row = pd.DataFrame([data[i]])  # 개별 키 데이터를 데이터프레임으로 변환 (리스트 형태로 감쌈)\n",
    "    df = pd.concat([df, row], ignore_index=True)  # 리스트 형태로 concat에 전달\n",
    "\n",
    "print(df)\n"
   ]
  },
  {
   "cell_type": "code",
   "execution_count": null,
   "metadata": {},
   "outputs": [],
   "source": [
    "df"
   ]
  },
  {
   "cell_type": "code",
   "execution_count": null,
   "metadata": {},
   "outputs": [],
   "source": [
    "colums=df.columns\n",
    "usd_fair = []\n",
    "for i in colums:\n",
    "  if \"USD\" in i[:3]:\n",
    "    usd_fair.append(i)\n",
    "\n",
    "df[usd_fair].head()"
   ]
  },
  {
   "cell_type": "code",
   "execution_count": null,
   "metadata": {},
   "outputs": [],
   "source": [
    "import matplotlib.pyplot as plt\n",
    "import seaborn as sns\n",
    "sample_df= df['USDKRW']\n",
    "plt.figure(figsize=(10, 6))\n",
    "plt.plot(sample_df.index, sample_df, label='USDKRW')\n",
    "\n",
    "plt.title('Exchange Rate Trends', fontsize=16)\n",
    "plt.xlabel('Time (Index)', fontsize=12)\n",
    "plt.ylabel('Exchange Rate', fontsize=12)\n",
    "plt.legend(title=\"Currency Pairs\")\n",
    "plt.grid(alpha=0.3)\n",
    "plt.show()\n"
   ]
  },
  {
   "cell_type": "code",
   "execution_count": null,
   "metadata": {},
   "outputs": [],
   "source": [
    "plt.figure(figsize=(10, 6))\n",
    "sns.heatmap(df, annot=True, cmap=\"coolwarm\", fmt=\".5g\", cbar_kws={'label': 'Exchange Rate'})\n",
    "plt.title('Exchange Rates Heatmap', fontsize=16)\n",
    "plt.xlabel('Currency Pairs', fontsize=12)\n",
    "plt.ylabel('Time (Index)', fontsize=12)\n",
    "plt.show()\n"
   ]
  },
  {
   "cell_type": "code",
   "execution_count": null,
   "metadata": {},
   "outputs": [],
   "source": [
    "pip install python-dotenv"
   ]
  },
  {
   "cell_type": "code",
   "execution_count": null,
   "metadata": {},
   "outputs": [],
   "source": [
    "from dotenv import load_dotenv\n",
    "import os"
   ]
  },
  {
   "cell_type": "code",
   "execution_count": null,
   "metadata": {},
   "outputs": [],
   "source": [
    "load_dotenv(\"../../.env\")\n"
   ]
  },
  {
   "cell_type": "code",
   "execution_count": null,
   "metadata": {},
   "outputs": [],
   "source": [
    "api_key = os.getenv(\"FIREBASE_URL\")\n",
    "# database_url = os.getenv(\"DATABASE_URL\")\n",
    "# debug_mode = os.getenv(\"DEBUG\")  "
   ]
  },
  {
   "cell_type": "code",
   "execution_count": null,
   "metadata": {},
   "outputs": [],
   "source": [
    "print(f\"API Key: {api_key}\")\n"
   ]
  },
  {
   "cell_type": "code",
   "execution_count": null,
   "metadata": {},
   "outputs": [],
   "source": []
  }
 ],
 "metadata": {
  "kernelspec": {
   "display_name": "p2p-env",
   "language": "python",
   "name": "python3"
  },
  "language_info": {
   "codemirror_mode": {
    "name": "ipython",
    "version": 3
   },
   "file_extension": ".py",
   "mimetype": "text/x-python",
   "name": "python",
   "nbconvert_exporter": "python",
   "pygments_lexer": "ipython3",
   "version": "3.11.9"
  }
 },
 "nbformat": 4,
 "nbformat_minor": 2
}
